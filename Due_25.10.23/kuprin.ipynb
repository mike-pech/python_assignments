{
 "cells": [
  {
   "cell_type": "code",
   "execution_count": 11,
   "metadata": {},
   "outputs": [
    {
     "name": "stdout",
     "output_type": "stream",
     "text": [
      "Note: you may need to restart the kernel to use updated packages.\n"
     ]
    }
   ],
   "source": [
    "pip install -Uq pymorphy2 nltk"
   ]
  },
  {
   "cell_type": "code",
   "execution_count": 22,
   "metadata": {},
   "outputs": [],
   "source": [
    "import nltk\n",
    "import pymorphy2\n",
    "\n",
    "regexp = nltk.tokenize.RegexpTokenizer(\"\\w+\")\n",
    "# treebank = nltk.tokenize.TreebankWordTokenizer()\n",
    "# whitespace = nltk.tokenize.WhitespaceTokenizer()\n",
    "morph = pymorphy2.MorphAnalyzer()"
   ]
  },
  {
   "cell_type": "code",
   "execution_count": 25,
   "metadata": {},
   "outputs": [],
   "source": [
    "with open(\"./Texts/beliy_pudel.txt\", \"r\") as file:\n",
    "    poodle = regexp.tokenize(file.read())\n",
    "\n",
    "with open(\"./Texts/chudesniy_doktor.txt\", \"r\") as file:\n",
    "    doctor = regexp.tokenize(file.read())\n",
    "\n",
    "with open(\"./Texts/granatovy_braslet.txt\", \"r\") as file:\n",
    "    bracelet = regexp.tokenize(file.read())\n",
    "\n",
    "with open(\"./Texts/limonnaya_korka.txt\", \"r\") as file:\n",
    "    lemon = regexp.tokenize(file.read())\n",
    "\n",
    "with open(\"./Texts/nochnaya_smena.txt\", \"r\") as file:\n",
    "    shift = regexp.tokenize(file.read())\n",
    "\n",
    "with open(\"./Texts/poedinok.txt\", \"r\") as file:\n",
    "    duel = regexp.tokenize(file.read())\n",
    "\n",
    "with open(\"./Texts/sinaya_zvezda.txt\", \"r\") as file:\n",
    "    star = regexp.tokenize(file.read())\n",
    "\n",
    "with open(\"./Texts/zvezda_solomona.txt\", \"r\") as file:\n",
    "    solomon = regexp.tokenize(file.read())"
   ]
  },
  {
   "cell_type": "code",
   "execution_count": null,
   "metadata": {},
   "outputs": [],
   "source": []
  }
 ],
 "metadata": {
  "kernelspec": {
   "display_name": "Python 3",
   "language": "python",
   "name": "python3"
  },
  "language_info": {
   "codemirror_mode": {
    "name": "ipython",
    "version": 3
   },
   "file_extension": ".py",
   "mimetype": "text/x-python",
   "name": "python",
   "nbconvert_exporter": "python",
   "pygments_lexer": "ipython3",
   "version": "3.10.12"
  }
 },
 "nbformat": 4,
 "nbformat_minor": 2
}
