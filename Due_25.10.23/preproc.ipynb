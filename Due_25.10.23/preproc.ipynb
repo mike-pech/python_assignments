{
 "cells": [
  {
   "cell_type": "code",
   "execution_count": 39,
   "metadata": {},
   "outputs": [
    {
     "name": "stdout",
     "output_type": "stream",
     "text": [
      "Note: you may need to restart the kernel to use updated packages.\n"
     ]
    }
   ],
   "source": [
    "pip install -Uq pymorphy2 nltk wordcloud matplotlib pandas plotly spacy "
   ]
  },
  {
   "cell_type": "code",
   "execution_count": 1,
   "metadata": {},
   "outputs": [],
   "source": [
    "import spacy\n",
    "nlp = spacy.load('ru_core_news_sm')\n",
    "import numpy as np\n",
    "from sklearn.feature_extraction.text import TfidfVectorizer\n",
    "\n",
    "stop = stopwords.words(\"russian\")"
   ]
  },
  {
   "cell_type": "code",
   "execution_count": 2,
   "metadata": {},
   "outputs": [],
   "source": [
    "tivect = TfidfVectorizer()"
   ]
  },
  {
   "cell_type": "code",
   "execution_count": 24,
   "metadata": {},
   "outputs": [],
   "source": [
    "class DIYPreProcessor:\n",
    "\n",
    "    def pre_process(self, text: str) -> list:\n",
    "        doc = nlp(text)\n",
    "        return [token.lemma_ for token in doc if not token.is_punct and not token.is_stop]\n",
    "\n",
    "    def tf(self, word: str, text: list) -> float:\n",
    "        return text.count(word)/len(text) \n",
    "\n",
    "    def idf(self, word: str, collection: list) -> float:\n",
    "        try:\n",
    "            return np.log(len(collection)/len([doc for doc in collection if word in doc]))\n",
    "        except ZeroDivisionError as e:\n",
    "            print(f\"Слово {word} не найдено ни в одном документе из корпуса!\")\n",
    "            return  \n",
    "\n",
    "    def word_to_vector(self, word: str, text: list, collection: list) -> float:        \n",
    "        try:\n",
    "            new_collection = []\n",
    "            for doc in collection:\n",
    "                new_collection.append(self.pre_process(doc))\n",
    "            return self.tf(word, self.pre_process(text))*self.idf(word, new_collection)\n",
    "        except TypeError as e:\n",
    "            return \"Такого слова в корпусе не найдено!\"\n",
    "\n",
    "    def similarity(self, text_a: list, text_b: list, corpus: list) -> float:\n",
    "        def sparse_row_norm(matrix):        # Обходной путь, т.к. нампай не работает с разреженными матрицами\n",
    "            out = np.zeros(matrix.shape[0])\n",
    "            nz, = np.diff(matrix.indptr).nonzero()\n",
    "            out[nz] = np.sqrt(np.add.reduceat(np.square(matrix.data),matrix.indptr[nz]))\n",
    "            return out\n",
    "        text_a, text_b = tivect.fit_transform([text_a, text_b])\n",
    "        dproduct = text_a.dot(text_b.T)\n",
    "        norms = sparse_row_norm(text_a)*sparse_row_norm(text_b) \n",
    "        return f\"{str(dproduct/norms)[9:]}\"\n",
    "\n",
    "    def word_pos(self, text: str, start: int, end: int) -> list:\n",
    "        return [f'{word.lemma_}_{word.pos_}' for word in nlp(text) if not word.is_punct and not word.is_stop][int(start):int(end)]"
   ]
  },
  {
   "cell_type": "code",
   "execution_count": 25,
   "metadata": {},
   "outputs": [],
   "source": [
    "dpp = DIYPreProcessor()"
   ]
  },
  {
   "cell_type": "code",
   "execution_count": 5,
   "metadata": {},
   "outputs": [],
   "source": [
    "files = {\n",
    "    \"./Texts/chudesniy_doktor.txt\": \"Чудесный Доктор\",              # 1897\n",
    "    \"./Texts/nochnaya_smena.txt\": \"Ночная Смена\",                   # 1899\n",
    "    \"./Texts/beliy_pudel.txt\": \"Белый Пудель\",                      # 1903\n",
    "    \"./Texts/poedinok.txt\": \"Поединок\",                             # 1905\n",
    "    \"./Texts/izumrud.txt\": \"Изумруд\",                               # 1907\n",
    "    \"./Texts/granatovy_braslet.txt\": \"Гранатовый Браслет\",          # 1910\n",
    "    \"./Texts/anaphema.txt\": \"Анафема\",                              # 1913\n",
    "    \"./Texts/zvezda_solomona.txt\": \"Звезда Соломона\",               # 1917\n",
    "    \"./Texts/limonnaya_korka.txt\": \"Лимонная Корка\",                # 1920\n",
    "    \"./Texts/sinaya_zvezda.txt\": \"Синяя Звезда\",                    # 1927 \n",
    "    }\n",
    "kuprin_vec = {}\n",
    "\n",
    "for path, name in files.items():\n",
    "    with open(path, \"r\") as f:\n",
    "        kuprin_vec.update({name: f.read()})"
   ]
  },
  {
   "cell_type": "code",
   "execution_count": 24,
   "metadata": {},
   "outputs": [
    {
     "data": {
      "text/plain": [
       "'TF-IDF = 0.0026295'"
      ]
     },
     "execution_count": 24,
     "metadata": {},
     "output_type": "execute_result"
    }
   ],
   "source": [
    "f'TF-IDF = {dpp.word_to_vector(\"старик\", kuprin_vec[\"Белый Пудель\"], kuprin_vec.values()):.5}'"
   ]
  },
  {
   "cell_type": "code",
   "execution_count": null,
   "metadata": {},
   "outputs": [
    {
     "data": {
      "text/plain": [
       "'TF-IDF = 0.0024513'"
      ]
     },
     "execution_count": 6,
     "metadata": {},
     "output_type": "execute_result"
    }
   ],
   "source": [
    "f'TF-IDF = {dpp.word_to_vector(\"пачпорт\", kuprin_vec[\"Белый Пудель\"], kuprin_vec.values()):.5}'"
   ]
  },
  {
   "cell_type": "code",
   "execution_count": null,
   "metadata": {},
   "outputs": [
    {
     "data": {
      "text/plain": [
       "'TF-IDF = 0.056523'"
      ]
     },
     "execution_count": 7,
     "metadata": {},
     "output_type": "execute_result"
    }
   ],
   "source": [
    "f'TF-IDF = {dpp.word_to_vector(\"изумруд\", kuprin_vec[\"Изумруд\"], kuprin_vec.values()):.5}'"
   ]
  },
  {
   "cell_type": "code",
   "execution_count": null,
   "metadata": {},
   "outputs": [
    {
     "name": "stdout",
     "output_type": "stream",
     "text": [
      "Слово не найдено ни в одном документе из корпуса!\n"
     ]
    },
    {
     "data": {
      "text/plain": [
       "'TF-IDF = Такого слова в корпусе не найдено!'"
      ]
     },
     "execution_count": 8,
     "metadata": {},
     "output_type": "execute_result"
    }
   ],
   "source": [
    "f'TF-IDF = {dpp.word_to_vector(\"пассат-б4\", kuprin_vec[\"Поединок\"], kuprin_vec.values())}'        # Ну, такого слова в корпусе точно нет)"
   ]
  },
  {
   "cell_type": "code",
   "execution_count": 26,
   "metadata": {},
   "outputs": [
    {
     "data": {
      "text/plain": [
       "'0.6660945525900934'"
      ]
     },
     "execution_count": 26,
     "metadata": {},
     "output_type": "execute_result"
    }
   ],
   "source": [
    "dpp.similarity(kuprin_vec[\"Изумруд\"], kuprin_vec[\"Поединок\"], kuprin_vec.values())"
   ]
  },
  {
   "cell_type": "code",
   "execution_count": 38,
   "metadata": {},
   "outputs": [
    {
     "name": "stdout",
     "output_type": "stream",
     "text": [
      "Косинусное сходство между \"Чудесный Доктор\" и \"Ночная Смена\": 0.5860240385721251\n",
      "Косинусное сходство между \"Чудесный Доктор\" и \"Белый Пудель\": 0.6297277472541257\n",
      "Косинусное сходство между \"Чудесный Доктор\" и \"Поединок\": 0.7143066680223714\n",
      "Косинусное сходство между \"Чудесный Доктор\" и \"Изумруд\": 0.5366352136639538\n",
      "Косинусное сходство между \"Чудесный Доктор\" и \"Гранатовый Браслет\": 0.6673179616979514\n",
      "Косинусное сходство между \"Чудесный Доктор\" и \"Анафема\": 0.5652540770474022\n",
      "Косинусное сходство между \"Чудесный Доктор\" и \"Звезда Соломона\": 0.6761880209403627\n",
      "Косинусное сходство между \"Чудесный Доктор\" и \"Лимонная Корка\": 0.5177605966977388\n",
      "Косинусное сходство между \"Чудесный Доктор\" и \"Синяя Звезда\": 0.5426152751343893\n",
      "Косинусное сходство между \"Ночная Смена\" и \"Белый Пудель\": 0.6843847453733701\n",
      "Косинусное сходство между \"Ночная Смена\" и \"Поединок\": 0.7637381726015272\n",
      "Косинусное сходство между \"Ночная Смена\" и \"Изумруд\": 0.5874790093552075\n",
      "Косинусное сходство между \"Ночная Смена\" и \"Гранатовый Браслет\": 0.717145457666539\n",
      "Косинусное сходство между \"Ночная Смена\" и \"Анафема\": 0.5980587797665958\n",
      "Косинусное сходство между \"Ночная Смена\" и \"Звезда Соломона\": 0.7245036848493212\n",
      "Косинусное сходство между \"Ночная Смена\" и \"Лимонная Корка\": 0.53912348199793\n",
      "Косинусное сходство между \"Ночная Смена\" и \"Синяя Звезда\": 0.5847069164189342\n",
      "Косинусное сходство между \"Белый Пудель\" и \"Поединок\": 0.8033185269822835\n",
      "Косинусное сходство между \"Белый Пудель\" и \"Изумруд\": 0.6258865080105477\n",
      "Косинусное сходство между \"Белый Пудель\" и \"Гранатовый Браслет\": 0.7696190718184512\n",
      "Косинусное сходство между \"Белый Пудель\" и \"Анафема\": 0.6299092172221749\n",
      "Косинусное сходство между \"Белый Пудель\" и \"Звезда Соломона\": 0.7982062255089921\n",
      "Косинусное сходство между \"Белый Пудель\" и \"Лимонная Корка\": 0.5670959581776803\n",
      "Косинусное сходство между \"Белый Пудель\" и \"Синяя Звезда\": 0.638808492349927\n",
      "Косинусное сходство между \"Поединок\" и \"Изумруд\": 0.6660945525900933\n",
      "Косинусное сходство между \"Поединок\" и \"Гранатовый Браслет\": 0.8792548880526174\n",
      "Косинусное сходство между \"Поединок\" и \"Анафема\": 0.7065441238542097\n",
      "Косинусное сходство между \"Поединок\" и \"Звезда Соломона\": 0.8717266758943208\n",
      "Косинусное сходство между \"Поединок\" и \"Лимонная Корка\": 0.6482364928360208\n",
      "Косинусное сходство между \"Поединок\" и \"Синяя Звезда\": 0.7219096049608998\n",
      "Косинусное сходство между \"Изумруд\" и \"Гранатовый Браслет\": 0.6098424531010525\n",
      "Косинусное сходство между \"Изумруд\" и \"Анафема\": 0.5616105167289316\n",
      "Косинусное сходство между \"Изумруд\" и \"Звезда Соломона\": 0.6616503346680496\n",
      "Косинусное сходство между \"Изумруд\" и \"Лимонная Корка\": 0.5300939565990463\n",
      "Косинусное сходство между \"Изумруд\" и \"Синяя Звезда\": 0.552554810848373\n",
      "Косинусное сходство между \"Гранатовый Браслет\" и \"Анафема\": 0.6613665060956293\n",
      "Косинусное сходство между \"Гранатовый Браслет\" и \"Звезда Соломона\": 0.8592896723311101\n",
      "Косинусное сходство между \"Гранатовый Браслет\" и \"Лимонная Корка\": 0.6278437461476405\n",
      "Косинусное сходство между \"Гранатовый Браслет\" и \"Синяя Звезда\": 0.7453412825855147\n",
      "Косинусное сходство между \"Анафема\" и \"Звезда Соломона\": 0.6850202419528969\n",
      "Косинусное сходство между \"Анафема\" и \"Лимонная Корка\": 0.5298866489304574\n",
      "Косинусное сходство между \"Анафема\" и \"Синяя Звезда\": 0.5644578846616511\n",
      "Косинусное сходство между \"Звезда Соломона\" и \"Лимонная Корка\": 0.6527078488642969\n",
      "Косинусное сходство между \"Звезда Соломона\" и \"Синяя Звезда\": 0.7264732501091729\n",
      "Косинусное сходство между \"Лимонная Корка\" и \"Синяя Звезда\": 0.5551874030272342\n"
     ]
    }
   ],
   "source": [
    "i = 0\n",
    "for name_a, text_a in kuprin_vec.items():\n",
    "    for name_b, text_b in list(kuprin_vec.items())[i:]:\n",
    "        if name_a == name_b: continue\n",
    "        print(f'Косинусное сходство между \"{name_a}\" и \"{name_b}\": {dpp.similarity(text_a, text_b, kuprin_vec.values())}')\n",
    "    i += 1"
   ]
  },
  {
   "cell_type": "code",
   "execution_count": null,
   "metadata": {},
   "outputs": [],
   "source": []
  }
 ],
 "metadata": {
  "kernelspec": {
   "display_name": "Python 3",
   "language": "python",
   "name": "python3"
  },
  "language_info": {
   "codemirror_mode": {
    "name": "ipython",
    "version": 3
   },
   "file_extension": ".py",
   "mimetype": "text/x-python",
   "name": "python",
   "nbconvert_exporter": "python",
   "pygments_lexer": "ipython3",
   "version": "3.10.12"
  }
 },
 "nbformat": 4,
 "nbformat_minor": 2
}
