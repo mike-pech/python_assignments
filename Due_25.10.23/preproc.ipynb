{
 "cells": [
  {
   "cell_type": "code",
   "execution_count": 39,
   "metadata": {},
   "outputs": [
    {
     "name": "stdout",
     "output_type": "stream",
     "text": [
      "Note: you may need to restart the kernel to use updated packages.\n"
     ]
    }
   ],
   "source": [
    "pip install -Uq pymorphy2 nltk wordcloud matplotlib pandas plotly spacy "
   ]
  },
  {
   "cell_type": "code",
   "execution_count": 1,
   "metadata": {},
   "outputs": [],
   "source": [
    "import spacy\n",
    "nlp = spacy.load('ru_core_news_sm')\n",
    "import numpy as np\n",
    "from sklearn.feature_extraction.text import TfidfVectorizer\n",
    "\n",
    "stop = stopwords.words(\"russian\")"
   ]
  },
  {
   "cell_type": "code",
   "execution_count": 2,
   "metadata": {},
   "outputs": [],
   "source": [
    "tivect = TfidfVectorizer()"
   ]
  },
  {
   "cell_type": "code",
   "execution_count": 40,
   "metadata": {},
   "outputs": [],
   "source": [
    "class DIYPreProcessor:\n",
    "\n",
    "    def pre_process(self, text: str) -> list:\n",
    "        doc = nlp(text)\n",
    "        return [token.lemma_ for token in doc if not token.is_punct and not token.is_stop]\n",
    "\n",
    "    def tf(self, word: str, text: list) -> float:\n",
    "        return text.count(word)/len(text) \n",
    "\n",
    "    def idf(self, word: str, collection: list) -> float:\n",
    "        try:\n",
    "            return np.log(len(collection)/len([doc for doc in collection if word in doc]))\n",
    "        except ZeroDivisionError as e:\n",
    "            print(f\"Слово {word} не найдено ни в одном документе из корпуса!\")\n",
    "            return  \n",
    "\n",
    "    def word_to_vector(self, word: str, text: list, collection: list) -> float:        \n",
    "        try:\n",
    "            new_collection = []\n",
    "            for doc in collection:\n",
    "                new_collection.append(self.pre_process(doc))\n",
    "            return self.tf(word, self.pre_process(text))*self.idf(word, new_collection)\n",
    "        except TypeError as e:\n",
    "            return \"Такого слова в корпусе не найдено!\"\n",
    "\n",
    "    def similarity(self, text_a: list, text_b: list, corpus: list) -> float:\n",
    "        def sparse_row_norm(matrix):        # Обходной путь, т.к. нампай не работает с разреженными матрицами\n",
    "            out = np.zeros(matrix.shape[0])\n",
    "            nz, = np.diff(matrix.indptr).nonzero()\n",
    "            out[nz] = np.sqrt(np.add.reduceat(np.square(matrix.data),matrix.indptr[nz]))\n",
    "            return out\n",
    "        text_a, text_b = tivect.fit_transform([text_a, text_b])\n",
    "        dproduct = text_a.dot(text_b.T)\n",
    "        norms = sparse_row_norm(text_a)*sparse_row_norm(text_b) \n",
    "        return f\"{(dproduct/norms).data}\"\n",
    "\n",
    "    def word_pos(self, text: str, start: int, end: int) -> list:\n",
    "        return [f'{word.lemma_}_{word.pos_}' for word in nlp(text) if not word.is_punct and not word.is_stop][int(start):int(end)]"
   ]
  },
  {
   "cell_type": "code",
   "execution_count": 41,
   "metadata": {},
   "outputs": [],
   "source": [
    "dpp = DIYPreProcessor()"
   ]
  },
  {
   "cell_type": "code",
   "execution_count": 5,
   "metadata": {},
   "outputs": [],
   "source": [
    "files = {\n",
    "    \"./Texts/chudesniy_doktor.txt\": \"Чудесный Доктор\",              # 1897\n",
    "    \"./Texts/nochnaya_smena.txt\": \"Ночная Смена\",                   # 1899\n",
    "    \"./Texts/beliy_pudel.txt\": \"Белый Пудель\",                      # 1903\n",
    "    \"./Texts/poedinok.txt\": \"Поединок\",                             # 1905\n",
    "    \"./Texts/izumrud.txt\": \"Изумруд\",                               # 1907\n",
    "    \"./Texts/granatovy_braslet.txt\": \"Гранатовый Браслет\",          # 1910\n",
    "    \"./Texts/anaphema.txt\": \"Анафема\",                              # 1913\n",
    "    \"./Texts/zvezda_solomona.txt\": \"Звезда Соломона\",               # 1917\n",
    "    \"./Texts/limonnaya_korka.txt\": \"Лимонная Корка\",                # 1920\n",
    "    \"./Texts/sinaya_zvezda.txt\": \"Синяя Звезда\",                    # 1927 \n",
    "    }\n",
    "kuprin_vec = {}\n",
    "\n",
    "for path, name in files.items():\n",
    "    with open(path, \"r\") as f:\n",
    "        kuprin_vec.update({name: f.read()})"
   ]
  },
  {
   "cell_type": "code",
   "execution_count": 24,
   "metadata": {},
   "outputs": [
    {
     "data": {
      "text/plain": [
       "'TF-IDF = 0.0026295'"
      ]
     },
     "execution_count": 24,
     "metadata": {},
     "output_type": "execute_result"
    }
   ],
   "source": [
    "f'TF-IDF = {dpp.word_to_vector(\"старик\", kuprin_vec[\"Белый Пудель\"], kuprin_vec.values()):.5}'"
   ]
  },
  {
   "cell_type": "code",
   "execution_count": null,
   "metadata": {},
   "outputs": [
    {
     "data": {
      "text/plain": [
       "'TF-IDF = 0.0024513'"
      ]
     },
     "execution_count": 6,
     "metadata": {},
     "output_type": "execute_result"
    }
   ],
   "source": [
    "f'TF-IDF = {dpp.word_to_vector(\"пачпорт\", kuprin_vec[\"Белый Пудель\"], kuprin_vec.values()):.5}'"
   ]
  },
  {
   "cell_type": "code",
   "execution_count": null,
   "metadata": {},
   "outputs": [
    {
     "data": {
      "text/plain": [
       "'TF-IDF = 0.056523'"
      ]
     },
     "execution_count": 7,
     "metadata": {},
     "output_type": "execute_result"
    }
   ],
   "source": [
    "f'TF-IDF = {dpp.word_to_vector(\"изумруд\", kuprin_vec[\"Изумруд\"], kuprin_vec.values()):.5}'"
   ]
  },
  {
   "cell_type": "code",
   "execution_count": null,
   "metadata": {},
   "outputs": [
    {
     "name": "stdout",
     "output_type": "stream",
     "text": [
      "Слово не найдено ни в одном документе из корпуса!\n"
     ]
    },
    {
     "data": {
      "text/plain": [
       "'TF-IDF = Такого слова в корпусе не найдено!'"
      ]
     },
     "execution_count": 8,
     "metadata": {},
     "output_type": "execute_result"
    }
   ],
   "source": [
    "f'TF-IDF = {dpp.word_to_vector(\"пассат-б4\", kuprin_vec[\"Поединок\"], kuprin_vec.values())}'        # Ну, такого слова в корпусе точно нет)"
   ]
  },
  {
   "cell_type": "code",
   "execution_count": 42,
   "metadata": {},
   "outputs": [
    {
     "data": {
      "text/plain": [
       "'[0.66609455]'"
      ]
     },
     "execution_count": 42,
     "metadata": {},
     "output_type": "execute_result"
    }
   ],
   "source": [
    "dpp.similarity(kuprin_vec[\"Изумруд\"], kuprin_vec[\"Поединок\"], kuprin_vec.values())"
   ]
  },
  {
   "cell_type": "code",
   "execution_count": 43,
   "metadata": {},
   "outputs": [
    {
     "name": "stdout",
     "output_type": "stream",
     "text": [
      "Косинусное сходство между \"Чудесный Доктор\" и \"Ночная Смена\": [0.58602404]\n",
      "Косинусное сходство между \"Чудесный Доктор\" и \"Белый Пудель\": [0.62972775]\n",
      "Косинусное сходство между \"Чудесный Доктор\" и \"Поединок\": [0.71430667]\n",
      "Косинусное сходство между \"Чудесный Доктор\" и \"Изумруд\": [0.53663521]\n",
      "Косинусное сходство между \"Чудесный Доктор\" и \"Гранатовый Браслет\": [0.66731796]\n",
      "Косинусное сходство между \"Чудесный Доктор\" и \"Анафема\": [0.56525408]\n",
      "Косинусное сходство между \"Чудесный Доктор\" и \"Звезда Соломона\": [0.67618802]\n",
      "Косинусное сходство между \"Чудесный Доктор\" и \"Лимонная Корка\": [0.5177606]\n",
      "Косинусное сходство между \"Чудесный Доктор\" и \"Синяя Звезда\": [0.54261528]\n",
      "Косинусное сходство между \"Ночная Смена\" и \"Белый Пудель\": [0.68438475]\n",
      "Косинусное сходство между \"Ночная Смена\" и \"Поединок\": [0.76373817]\n",
      "Косинусное сходство между \"Ночная Смена\" и \"Изумруд\": [0.58747901]\n",
      "Косинусное сходство между \"Ночная Смена\" и \"Гранатовый Браслет\": [0.71714546]\n",
      "Косинусное сходство между \"Ночная Смена\" и \"Анафема\": [0.59805878]\n",
      "Косинусное сходство между \"Ночная Смена\" и \"Звезда Соломона\": [0.72450368]\n",
      "Косинусное сходство между \"Ночная Смена\" и \"Лимонная Корка\": [0.53912348]\n",
      "Косинусное сходство между \"Ночная Смена\" и \"Синяя Звезда\": [0.58470692]\n",
      "Косинусное сходство между \"Белый Пудель\" и \"Поединок\": [0.80331853]\n",
      "Косинусное сходство между \"Белый Пудель\" и \"Изумруд\": [0.62588651]\n",
      "Косинусное сходство между \"Белый Пудель\" и \"Гранатовый Браслет\": [0.76961907]\n",
      "Косинусное сходство между \"Белый Пудель\" и \"Анафема\": [0.62990922]\n",
      "Косинусное сходство между \"Белый Пудель\" и \"Звезда Соломона\": [0.79820623]\n",
      "Косинусное сходство между \"Белый Пудель\" и \"Лимонная Корка\": [0.56709596]\n",
      "Косинусное сходство между \"Белый Пудель\" и \"Синяя Звезда\": [0.63880849]\n",
      "Косинусное сходство между \"Поединок\" и \"Изумруд\": [0.66609455]\n",
      "Косинусное сходство между \"Поединок\" и \"Гранатовый Браслет\": [0.87925489]\n",
      "Косинусное сходство между \"Поединок\" и \"Анафема\": [0.70654412]\n",
      "Косинусное сходство между \"Поединок\" и \"Звезда Соломона\": [0.87172668]\n",
      "Косинусное сходство между \"Поединок\" и \"Лимонная Корка\": [0.64823649]\n",
      "Косинусное сходство между \"Поединок\" и \"Синяя Звезда\": [0.7219096]\n",
      "Косинусное сходство между \"Изумруд\" и \"Гранатовый Браслет\": [0.60984245]\n",
      "Косинусное сходство между \"Изумруд\" и \"Анафема\": [0.56161052]\n",
      "Косинусное сходство между \"Изумруд\" и \"Звезда Соломона\": [0.66165033]\n",
      "Косинусное сходство между \"Изумруд\" и \"Лимонная Корка\": [0.53009396]\n",
      "Косинусное сходство между \"Изумруд\" и \"Синяя Звезда\": [0.55255481]\n",
      "Косинусное сходство между \"Гранатовый Браслет\" и \"Анафема\": [0.66136651]\n",
      "Косинусное сходство между \"Гранатовый Браслет\" и \"Звезда Соломона\": [0.85928967]\n",
      "Косинусное сходство между \"Гранатовый Браслет\" и \"Лимонная Корка\": [0.62784375]\n",
      "Косинусное сходство между \"Гранатовый Браслет\" и \"Синяя Звезда\": [0.74534128]\n",
      "Косинусное сходство между \"Анафема\" и \"Звезда Соломона\": [0.68502024]\n",
      "Косинусное сходство между \"Анафема\" и \"Лимонная Корка\": [0.52988665]\n",
      "Косинусное сходство между \"Анафема\" и \"Синяя Звезда\": [0.56445788]\n",
      "Косинусное сходство между \"Звезда Соломона\" и \"Лимонная Корка\": [0.65270785]\n",
      "Косинусное сходство между \"Звезда Соломона\" и \"Синяя Звезда\": [0.72647325]\n",
      "Косинусное сходство между \"Лимонная Корка\" и \"Синяя Звезда\": [0.5551874]\n"
     ]
    }
   ],
   "source": [
    "i = 0\n",
    "for name_a, text_a in kuprin_vec.items():\n",
    "    for name_b, text_b in list(kuprin_vec.items())[i:]:\n",
    "        if name_a == name_b: continue\n",
    "        print(f'Косинусное сходство между \"{name_a}\" и \"{name_b}\": {dpp.similarity(text_a, text_b, kuprin_vec.values())}')\n",
    "    i += 1"
   ]
  },
  {
   "cell_type": "code",
   "execution_count": null,
   "metadata": {},
   "outputs": [],
   "source": []
  }
 ],
 "metadata": {
  "kernelspec": {
   "display_name": "Python 3",
   "language": "python",
   "name": "python3"
  },
  "language_info": {
   "codemirror_mode": {
    "name": "ipython",
    "version": 3
   },
   "file_extension": ".py",
   "mimetype": "text/x-python",
   "name": "python",
   "nbconvert_exporter": "python",
   "pygments_lexer": "ipython3",
   "version": "3.10.12"
  }
 },
 "nbformat": 4,
 "nbformat_minor": 2
}
